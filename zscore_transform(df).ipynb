{
 "cells": [
  {
   "cell_type": "code",
   "execution_count": null,
   "metadata": {
    "collapsed": true
   },
   "outputs": [],
   "source": [
    "# Create a function for calculating z-scores of a column in a data-frame: zscore_transform(df)\n",
    "def zscore_transform(df):\n",
    "    \"\"\"Function takes in a dataframe slice, calculates zscores\"\"\"\n",
    "    \"\"\"and returns a dataframe with z-scores the size of the slice passed\"\"\"\n",
    "    \"\"\"Uses a degree of freedom of 1 in .std(ddof=1) for sample population\"\"\"\n",
    "    # Initialize an empty dataframe to fill with z-scores\n",
    "    new_df = pd.DataFrame(index=np.arange(len(df)), columns=df.columns)\n",
    "    new_df = new_df.fillna(0)\n",
    "    new_df.head()\n",
    "    # Loope through columns in passed dataframe and calculate zscores using pandas functionality\n",
    "    for each_column in df:\n",
    "        new_df[each_column]=(df[each_column]-df[each_column].mean())/(df[each_column].std(ddof=0))  \n",
    "    return new_df"
   ]
  }
 ],
 "metadata": {
  "kernelspec": {
   "display_name": "Python 3",
   "language": "python",
   "name": "python3"
  },
  "language_info": {
   "codemirror_mode": {
    "name": "ipython",
    "version": 3
   },
   "file_extension": ".py",
   "mimetype": "text/x-python",
   "name": "python",
   "nbconvert_exporter": "python",
   "pygments_lexer": "ipython3",
   "version": "3.6.1"
  }
 },
 "nbformat": 4,
 "nbformat_minor": 2
}
