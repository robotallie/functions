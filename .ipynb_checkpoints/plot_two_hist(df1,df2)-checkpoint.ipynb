{
 "cells": [
  {
   "cell_type": "code",
   "execution_count": null,
   "metadata": {
    "collapsed": true
   },
   "outputs": [],
   "source": [
    "def plot_two_hist(df1,df2):\n",
    "    \"\"\"Function takes two data series and creates side by side histogram plots\"\"\"\n",
    "    import matplotlib.pyplot as plt\n",
    "    fig= plt.figure(figsize=(15,4))\n",
    "    # Plot 1 \n",
    "    plt.subplot(1,2,1)\n",
    "    cm = plt.cm.get_cmap('ocean')\n",
    "    n, bins, patches = plt.hist(df1, rwidth=0.95, color='green')\n",
    "    # Normalize  values\n",
    "    col = (n-n.min())/(n.max()-n.min())\n",
    "    for c, p in zip(col, patches):\n",
    "        plt.setp(p, 'facecolor', cm(c))\n",
    "    # Plot 2 \n",
    "    plt.subplot(1,2,2)\n",
    "    cm = plt.cm.get_cmap('ocean')\n",
    "    n, bins, patches = plt.hist(df2, rwidth=0.95, color='green')\n",
    "    # Normalize values\n",
    "    col = (n-n.min())/(n.max()-n.min())\n",
    "    for c, p in zip(col, patches):\n",
    "        plt.setp(p, 'facecolor', cm(c))        \n",
    "    return"
   ]
  }
 ],
 "metadata": {
  "kernelspec": {
   "display_name": "Python 3",
   "language": "python",
   "name": "python3"
  },
  "language_info": {
   "codemirror_mode": {
    "name": "ipython",
    "version": 3
   },
   "file_extension": ".py",
   "mimetype": "text/x-python",
   "name": "python",
   "nbconvert_exporter": "python",
   "pygments_lexer": "ipython3",
   "version": "3.6.1"
  }
 },
 "nbformat": 4,
 "nbformat_minor": 2
}
