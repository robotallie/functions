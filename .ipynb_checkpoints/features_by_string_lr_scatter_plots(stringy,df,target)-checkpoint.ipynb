{
 "cells": [
  {
   "cell_type": "code",
   "execution_count": null,
   "metadata": {
    "collapsed": true
   },
   "outputs": [],
   "source": [
    "# This defines a function that creates seaborn scatter - regression plots\n",
    "# using seaborn.regplot() with a confidence interval of 90% (ci=.9)\n",
    "def features_by_string_lr_scatter_plots(stringy,df,target):\n",
    "    plot_list = []\n",
    "    for column in df.columns:\n",
    "        if stringy in column:\n",
    "            plot_list.append(column)\n",
    "    plot_nrows = int(-(-len(plot_list)//4))\n",
    "\n",
    "    fig= plt.figure(figsize=(20,5*plot_nrows))\n",
    "    plt.subplots_adjust(left=None, bottom=None, right=None, \n",
    "                    top=None, wspace=None, hspace=0.4)\n",
    "    plotn = 1\n",
    "    for column in plot_list:\n",
    "        plt.subplot(plot_nrows,4,plotn)\n",
    "        sns.regplot(column,target,data=df, ci=.9, color='orange',scatter_kws={'alpha':0.5})\n",
    "        plt.title('Outcomes for: {}'.format(column))\n",
    "        plt.ylabel('Outcomes')\n",
    "        plotn += 1  \n",
    "    return    "
   ]
  }
 ],
 "metadata": {
  "kernelspec": {
   "display_name": "Python 3",
   "language": "python",
   "name": "python3"
  },
  "language_info": {
   "codemirror_mode": {
    "name": "ipython",
    "version": 3
   },
   "file_extension": ".py",
   "mimetype": "text/x-python",
   "name": "python",
   "nbconvert_exporter": "python",
   "pygments_lexer": "ipython3",
   "version": "3.6.1"
  }
 },
 "nbformat": 4,
 "nbformat_minor": 2
}
