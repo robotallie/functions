{
 "cells": [
  {
   "cell_type": "code",
   "execution_count": null,
   "metadata": {
    "collapsed": true
   },
   "outputs": [],
   "source": [
    "# Create a dictionary of dictionaries as a data dictionary\n",
    "\n",
    "def create_data_dict(df):\n",
    "    \"\"\"Function returns a data dictionary from a dataframe, df\"\"\"\n",
    "    \"\"\"Dictionary includes variable name, type, description, shape\"\"\"\n",
    "    \"\"\"Description needs to be edited post creation\"\"\"\n",
    "    meta = {}\n",
    "    for item in df:\n",
    "        meta[item]= {}\n",
    "        meta[item]['name']=item\n",
    "        meta[item]['type']=df[item].dtype\n",
    "        meta[item]['description'] = ''\n",
    "        meta[item]['shape'] = df[item].shape\n",
    "    return meta"
   ]
  }
 ],
 "metadata": {
  "kernelspec": {
   "display_name": "Python 3",
   "language": "python",
   "name": "python3"
  },
  "language_info": {
   "codemirror_mode": {
    "name": "ipython",
    "version": 3
   },
   "file_extension": ".py",
   "mimetype": "text/x-python",
   "name": "python",
   "nbconvert_exporter": "python",
   "pygments_lexer": "ipython3",
   "version": "3.6.1"
  }
 },
 "nbformat": 4,
 "nbformat_minor": 2
}
